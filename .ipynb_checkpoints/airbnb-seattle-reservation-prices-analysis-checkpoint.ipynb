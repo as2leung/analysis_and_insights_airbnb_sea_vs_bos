{
 "cells": [
  {
   "cell_type": "code",
   "execution_count": null,
   "metadata": {
    "_cell_guid": "b1076dfc-b9ad-4769-8c92-a6c4dae69d19",
    "_uuid": "8f2839f25d086af736a60e9eeb907d3b93b6e0e5"
   },
   "outputs": [],
   "source": [
    "#Imports\n",
    "\n",
    "#Import linear algebra and data manipulation\n",
    "import numpy as np\n",
    "import pandas as pd\n",
    "\n",
    "#Import plotting packages\n",
    "import matplotlib.pyplot as plt\n",
    "%matplotlib inline\n",
    "import seaborn as sns\n",
    "\n",
    "#Import machine learning\n",
    "from sklearn.linear_model import LinearRegression\n",
    "from sklearn.ensemble import RandomForestRegressor\n",
    "import xgboost\n",
    "\n",
    "from sklearn.model_selection import train_test_split #split\n",
    "from sklearn.metrics import r2_score, mean_squared_error #metrics"
   ]
  },
  {
   "cell_type": "markdown",
   "metadata": {
    "_cell_guid": "79c7e3d0-c299-4dcb-8224-4455121ee9b0",
    "_uuid": "d629ff2d2480ee46fbb7e2d37f6b5fab8052498a",
    "collapsed": true
   },
   "source": [
    "## Introduction"
   ]
  },
  {
   "cell_type": "markdown",
   "metadata": {
    "_uuid": "b33619f249f6a5100d26cbb0a4e25106d5da745a"
   },
   "source": [
    "Finding an accomodation is the most typical problem to be solved, when travelling to other city or country. And one of the most important things in choosing an accomodation is the reservation price. What are the main factors, which affect the reservation prices? Does time of the year influence prices and what are the busiest times of the year to visit particular city? How can we save money on the reservation?\n",
    "\n",
    "Fortunately, we can try to answer these questions by analysing publicly accessible __[AirBnB](https://www.airbnb.com)__ data, available on __[Inside AirBnB](http://insideairbnb.com/get-the-data.html)__ and on __[Kaggle](https://www.kaggle.com/airbnb/seattle)__."
   ]
  },
  {
   "cell_type": "markdown",
   "metadata": {
    "_uuid": "5d37baa30310a78f09f3c706645b151fccc6dd02"
   },
   "source": [
    "## Initial Insights"
   ]
  },
  {
   "cell_type": "markdown",
   "metadata": {
    "_uuid": "8dbb18359ccff4d5142acb48705ad13c8259e65c"
   },
   "source": [
    "Before diving deep into data, let's find out some general information on how the reservation price is determined and search for some useful facts for the future analysis."
   ]
  },
  {
   "cell_type": "markdown",
   "metadata": {
    "_uuid": "47a680adf6f0d360d40902a1df55fe3bb3987275"
   },
   "source": [
    "AirBnB reservation price is based on following costs (according to __[AirBnB official website information](https://www.airbnb.com/help/article/125/how-is-the-price-determined-for-my-reservation?locale=en)__):\n",
    "- Costs determined by the host:\n",
    "    - Nightly price: Nightly rate decided by the host;\n",
    "    - Cleaning fee: One-time fee charged by some hosts to cover the cost of cleaning their space;\n",
    "    - Extra guest fees: One-time fee charged by some hosts to cover other costs related to using their space;\n",
    "- Costs determined by Airbnb: Airbnb service fee;\n",
    "- Other costs that may be included: currency exchange fees, VAT, other local taxes etc."
   ]
  },
  {
   "cell_type": "markdown",
   "metadata": {
    "_uuid": "10597e0452a9480ae90314f2da9cde68a84f3960"
   },
   "source": [
    "In our analysis we will concentrate on the factors, which influence the nightly price, determined by the host. Actually, AirBnB already has an algorithm, which suggests hosts the price. The approach for the algorithm and challenges are described in the article __[here](https://www.vrmintel.com/inside-airbnbs-algorithm/)__.\n",
    "We can also use the information from the article in our analysis:\n",
    "\n",
    "- Time of the year, when reservation is made, affects the price;\n",
    "- Amenities offered like Wi-Fi and TV should be considered in the analysis, as they also might have great influence on price;\n",
    "- It is better to use neighbourhood information rather then exact coordinates to describe the listing location, because sometimes even close locations might have huge difference in listing prices, if they belong to different neighbourhoods or are located different sides of the river. "
   ]
  },
  {
   "cell_type": "markdown",
   "metadata": {
    "_uuid": "680ef231a9fcb9ea328b50bbd23cf8175bd93f8e"
   },
   "source": [
    "## Approach"
   ]
  },
  {
   "cell_type": "markdown",
   "metadata": {
    "_uuid": "eb8de4c102f35bf6ec492b7d30adadf9a58074a2"
   },
   "source": [
    "First of all, I chose Seattle dataset, and it will take me the following steps to come into conclusions about factors, affecting reservation prices:\n",
    "\n",
    "1. The first look at the data: \n",
    "    * what information we have?\n",
    "    * what information is missing?\n",
    "    * discover general facts: time period, total number of listings in the dataset, \n",
    "2. Initial data preparation:\n",
    "    * remove the irrelevant information;\n",
    "    * reformat the information and imputing missing values;   \n",
    "3. High level analysis:\n",
    "    * find out high level trends and correlations;  \n",
    "4. Use machine learning for further analysis."
   ]
  },
  {
   "cell_type": "markdown",
   "metadata": {
    "_uuid": "e0608a59b7395cb608138d6395a2594bc86a26e3"
   },
   "source": [
    "## The First Look at the Data"
   ]
  },
  {
   "cell_type": "markdown",
   "metadata": {
    "_uuid": "858f2a5c0569e953ee989f5bca2865ced554b3d9"
   },
   "source": [
    "AirBnB provided us with 3 datasets for Seattle:\n",
    "* listings.csv - summary information on listing in Seattle such as: location, host information, cleaning and guest fees, amenities etc.\n",
    "* calendar.csv - calendar data for the listings: availability dates, price for each date.\n",
    "* reviews.csv - summary review data for the listings. This dataset won't be used in further analysis."
   ]
  },
  {
   "cell_type": "markdown",
   "metadata": {
    "_uuid": "041db7f2064be08083adf207acaaa1699784b28c"
   },
   "source": [
    "Statistics for listings.csv dataset:"
   ]
  },
  {
   "cell_type": "code",
   "execution_count": null,
   "metadata": {
    "_uuid": "19e8b26a470ae5f3de345d3265722e6ad2a6c0a6"
   },
   "outputs": [],
   "source": [
    "#read the dataset\n",
    "listings_df = pd.read_csv('../input/listings.csv')\n",
    "\n",
    "#find number of listings and number of hosts\n",
    "listings_number = listings_df['id'].count()\n",
    "hosts_number = len(listings_df['host_id'].unique())\n",
    "\n",
    "print('listings.csv dataset contains information on %d listings provided by %d hosts.' % (listings_number, \n",
    "                                                                                          hosts_number))"
   ]
  },
  {
   "cell_type": "markdown",
   "metadata": {
    "_uuid": "221bb56583aeb6b788205b7be049d10f6d035959"
   },
   "source": [
    "listings.csv dataset missing values statistics (only columns with any missing data are represented on the diagram):"
   ]
  },
  {
   "cell_type": "code",
   "execution_count": null,
   "metadata": {
    "_uuid": "2364314ff2efa3d8a3f0985a766e0bca9ea3439c"
   },
   "outputs": [],
   "source": [
    "#find percentage of missing values for each column\n",
    "listings_missing_df = listings_df.isnull().mean()*100\n",
    "\n",
    "#filter out only columns, which have missing values\n",
    "listings_columns_with_nan = listings_missing_df[listings_missing_df > 0]\n",
    "\n",
    "#plot the results\n",
    "listings_columns_with_nan.plot.bar(title='Missing values per column, %')"
   ]
  },
  {
   "cell_type": "markdown",
   "metadata": {
    "_uuid": "9af2a0678e67810d79ae4cea4e0689fa73b01e12"
   },
   "source": [
    "As we see on the diagram above, we don't have information on each listing license and on amount of square feets for each listing. We can also see that there are more than 40% of missing values for weekly price, monthly price and security deposit, but we are not going to use these data in our analysis anyway, because it will obviously lead to overfitting our machine learning model."
   ]
  },
  {
   "cell_type": "markdown",
   "metadata": {
    "_uuid": "e7038b408bb13745065d7857a95590369026f412"
   },
   "source": [
    "Statistics for calendar.csv dataset:"
   ]
  },
  {
   "cell_type": "code",
   "execution_count": null,
   "metadata": {
    "_uuid": "7aa853c48a4421294772332e0780aba3eca179e2"
   },
   "outputs": [],
   "source": [
    "#read the dataset\n",
    "calendar_df = pd.read_csv('../input/calendar.csv')\n",
    "\n",
    "#find number of rows in dataset\n",
    "rows_num = calendar_df.shape[0]\n",
    "\n",
    "#find first and last date of the calendar\n",
    "min_date = calendar_df['date'].min()\n",
    "max_date = calendar_df['date'].max()\n",
    "\n",
    "print('calendar.csv dataset contains %d rows.' % (rows_num))\n",
    "print('The first date of observation is %s and the last date is %s.' % (min_date, max_date))"
   ]
  },
  {
   "cell_type": "markdown",
   "metadata": {
    "_uuid": "24ebb9fca1323cd0b6f078d38d707efab752136c"
   },
   "source": [
    "calendar.csv dataset missing values statistics"
   ]
  },
  {
   "cell_type": "code",
   "execution_count": null,
   "metadata": {
    "_uuid": "4a7f81ebdd303eb25aeb4e39f413cb5312801d64"
   },
   "outputs": [],
   "source": [
    "#get percentage of missing values for each column in dataset\n",
    "calendar_missing_df = pd.DataFrame([calendar_df.isnull().mean()*100])\n",
    "\n",
    "#plot the results\n",
    "calendar_missing_df.plot.bar(title='Missing values per column, %')"
   ]
  },
  {
   "cell_type": "markdown",
   "metadata": {
    "_uuid": "287a1f3ffaa6283e3614087d47717dd9f23f47b2"
   },
   "source": [
    "As we see on digram, there are only 32% percent of missing values for price column for dates, when the listing was unavailable."
   ]
  },
  {
   "cell_type": "markdown",
   "metadata": {
    "_uuid": "5f104110c74ea96a12e8ad57c580e215d9168594"
   },
   "source": [
    "## Initial Data Preparation"
   ]
  },
  {
   "cell_type": "markdown",
   "metadata": {
    "_uuid": "ecd9357ba409788d48c7b18b03b7bcc454f825ec"
   },
   "source": [
    "Before trying to get the first outcomes, the data should be pre-processed: \n",
    "* datasets should be merged into one using the listing identifier;\n",
    "* irrelevant columns and columns, which contain missing data should be removed from the analysis;\n",
    "* dates and prices should be converted from text into numbers."
   ]
  },
  {
   "cell_type": "code",
   "execution_count": null,
   "metadata": {
    "_uuid": "350ad4c0219281cae0d36b90a2b931a600d38984"
   },
   "outputs": [],
   "source": [
    "#Helper functions for dataset cleaning\n",
    "\n",
    "def get_month_from_date(row):\n",
    "    ''' Get month from date represented as a string '''\n",
    "    return int(row['date'].split('-')[1])\n",
    "\n",
    "def get_year_from_date(row):\n",
    "    ''' Get year from date represented as a string '''\n",
    "    return int(row['date'].split('-')[0])\n",
    "\n",
    "def get_host_since_year(row):\n",
    "    ''' Get year from a date represented as a string '''\n",
    "    try:\n",
    "        host_since = int(row['host_since'].split('-')[0])\n",
    "    except:\n",
    "        host_since = np.nan\n",
    "    return host_since\n",
    "\n",
    "def get_val_from_list(row, column_name, value):\n",
    "    ''' Fill in dummy column for values '''\n",
    "    val = 0.0\n",
    "    try:\n",
    "        vals = row[column_name].replace('[', '').replace(\"'\", '').replace(\"]\", '').replace('\"', '').replace('{', '').replace('}', '').split(',')\n",
    "        if value in vals:\n",
    "            val = 1.0\n",
    "    except:\n",
    "        val = 0.0\n",
    "    return val\n",
    "\n",
    "def split_list_into_columns(df, column_name, max_dummies_num = 10):\n",
    "    ''' Split values in columns, which contain lists (for example, amenities) '''\n",
    "    \n",
    "    # get dictionary of unique values in lists across dataset rows\n",
    "    values_dict = {}\n",
    "\n",
    "    for unique_value in df[column_name].unique(): \n",
    "        for value in unique_value.replace('[', '').replace(\"'\", '').replace(\"]\", '').replace('\"', '').replace('{', '').replace('}', '').split(','):\n",
    "            if value in values_dict:\n",
    "                values_dict[value] = values_dict[value] + 1\n",
    "            else:\n",
    "                values_dict[value] = 0\n",
    "                \n",
    "    values_sorted = sorted(values_dict.items(), key=lambda kv: kv[1], reverse = True)\n",
    "      \n",
    "    # split into columns\n",
    "    for value in values_sorted[: max_dummies_num]:\n",
    "        df[column_name + '_' + value[0]] = df.apply(lambda row: get_val_from_list(row, column_name, value[0]),axis=1)\n",
    "        \n",
    "    return\n",
    "\n",
    "def get_extra_people_fee(row):\n",
    "    ''' Return 1 when the is fee for exatra people '''\n",
    "    if row['extra_people'] == '$0.00':\n",
    "        return 0.0\n",
    "    else:\n",
    "        return 1.0\n",
    "\n",
    "#Main dataset cleaning function\n",
    "def clean_dataset(listings_df, calendar_df):\n",
    "    '''\n",
    "    INPUT\n",
    "    listings_df - pandas dataframe containing listings data \n",
    "    calendar_df - pandas dataframe containing calendar data\n",
    "    \n",
    "    OUTPUT\n",
    "    df - cleaned dataset, which contains merged tables:\n",
    "    1. irrelevant columns are dropped;\n",
    "    2. string containing dates are converted into numbers;\n",
    "    3. columns, containing lists, are split into several columns (for example, amenities)\n",
    "    4. missing values are imputed with mean or mode.\n",
    "    '''\n",
    "    #merge datasets\n",
    "    listings_df = listings_df.rename(index=str, columns={\"id\": \"listing_id\"})\n",
    "    df = pd.merge(calendar_df, listings_df, on = 'listing_id')\n",
    "    \n",
    "    #drop the irrelevant columns\n",
    "    columns_to_drop = ['available', 'host_id','host_location','host_acceptance_rate','host_neighbourhood',\n",
    "                   'host_total_listings_count', 'weekly_price', 'monthly_price',\n",
    "                   'security_deposit', 'cleaning_fee', 'calendar_updated',\n",
    "                   'listing_url','last_scraped' ,'scrape_id', 'name', 'summary', 'space', 'description',\n",
    "                   'experiences_offered', 'street', 'neighbourhood', 'neighbourhood_cleansed', 'zipcode',\n",
    "                   'neighborhood_overview', 'notes', 'transit', 'thumbnail_url', 'medium_url', 'picture_url',\n",
    "                   'xl_picture_url', 'host_url', 'host_name', 'host_about', 'host_thumbnail_url', 'host_picture_url',\n",
    "                   'city', 'state', 'market', 'smart_location', 'country_code', 'country', 'latitude', 'longitude',\n",
    "                   'is_location_exact', 'square_feet', 'has_availability', 'availability_30',\n",
    "                   'availability_60', 'availability_90', 'availability_365', 'calendar_last_scraped',\n",
    "                  'first_review', 'last_review', 'requires_license', 'license', 'jurisdiction_names', 'price_y',\n",
    "                  'reviews_per_month']\n",
    "    df = df.drop(columns = columns_to_drop)\n",
    "    \n",
    "    #convert date from the calendar into month and drop the date colum\n",
    "    df['month'] = df.apply(lambda row: get_month_from_date(row),axis=1)\n",
    "    df['year'] = df.apply(lambda row: get_year_from_date(row),axis=1)\n",
    "    df = df.drop(columns = ['date'])\n",
    "    \n",
    "    #remove rows where price_x == nan, because price will be used as response column\n",
    "    df = df.dropna(subset=['price_x'])\n",
    "    \n",
    "    #convert price to number and drop the price_x column\n",
    "    df['price'] = df['price_x'].astype(str)\n",
    "    df['price'] = df['price'].str.replace(\"[$, ]\", \"\").astype(\"float\")\n",
    "    df = df.drop(columns = ['price_x'])\n",
    "    \n",
    "    #convert host_since date into number and fill in missing values, drop the original column\n",
    "    df['host_since_year'] = df.apply(lambda row: get_host_since_year(row),axis=1)\n",
    "    df['host_since_year'].fillna(df['host_since_year'].mean(), inplace = True)\n",
    "    df = df.drop(columns = ['host_since'])\n",
    "    \n",
    "    #convert host_response_rate into number and fill in missing values, drop the original column\n",
    "    df['host_response_rate_num'] = df['host_response_rate'].astype(str)\n",
    "    df['host_response_rate_num'] = df['host_response_rate_num'].str.replace(\"%\", \"\").astype(\"float\")\n",
    "    df['host_response_rate_num'].fillna(df['host_response_rate_num'].mean(), inplace = True)\n",
    "    \n",
    "    df['host_response_rate_buckets'] = pd.qcut(df['host_response_rate_num'], 5, labels=False, duplicates = 'drop')\n",
    "    \n",
    "    df = df.drop(columns = ['host_response_rate', 'host_response_rate_num'])\n",
    "    \n",
    "    #fill missing values with mean value for host_listings_count\n",
    "    df['host_listings_count'].fillna(df['host_listings_count'].mean(), inplace = True)\n",
    "    \n",
    "    #split host_verifications into dummy columns and drop the original column\n",
    "    split_list_into_columns(df, 'host_verifications')\n",
    "    df = df.drop(columns = ['host_verifications'])\n",
    "    \n",
    "    #fill in missing values for bathrooms, bedrooms and beds with mode\n",
    "    df['bathrooms'] = df['bathrooms'].fillna(df['bathrooms'].mode()[0])\n",
    "    df['bedrooms'] = df['bedrooms'].fillna(df['bedrooms'].mode()[0])\n",
    "    df['beds'] = df['beds'].fillna(df['beds'].mode()[0])\n",
    "    \n",
    "    #split amenities into dummy columns and drop the original column\n",
    "    split_list_into_columns(df, 'amenities')\n",
    "    df = df.drop(columns = ['amenities'])\n",
    "    \n",
    "    #turn extra people fee into binary column (1 - if fee for extra people is charged, 0 - otherwise)\n",
    "    df['extra_people_fee'] = df.apply(lambda row: get_extra_people_fee(row),axis=1)\n",
    "    df = df.drop(columns = ['extra_people'])\n",
    "    \n",
    "    #fill missing values for review scores columns\n",
    "    review_scores_columns = ['review_scores_rating', 'review_scores_accuracy', 'review_scores_cleanliness',\n",
    "                         'review_scores_checkin', 'review_scores_communication', 'review_scores_location',\n",
    "                        'review_scores_value']\n",
    "    for column in review_scores_columns:\n",
    "        df[column].fillna(df[column].mean(), inplace = True)\n",
    "    \n",
    "    return df"
   ]
  },
  {
   "cell_type": "code",
   "execution_count": null,
   "metadata": {
    "_uuid": "062fa2c52ba18209e3e340ce2a00c4255abc017b"
   },
   "outputs": [],
   "source": [
    "# apply functions above to clean dataset\n",
    "df = clean_dataset(listings_df, calendar_df)"
   ]
  },
  {
   "cell_type": "markdown",
   "metadata": {
    "_uuid": "2e12c9ded6cba8adafc4de8025c2015795597dc3"
   },
   "source": [
    "## High Level Analysis"
   ]
  },
  {
   "cell_type": "markdown",
   "metadata": {
    "_uuid": "d07ddbed685b1cd374fac9bd82573993d15800ab"
   },
   "source": [
    "Now when we have clean data, we can look closer and try to find answers to our questions."
   ]
  },
  {
   "cell_type": "markdown",
   "metadata": {
    "_uuid": "a4164b69c7284565668cc66574cceab4cbeb7e4b"
   },
   "source": [
    "### Listing Prices Overview"
   ]
  },
  {
   "cell_type": "markdown",
   "metadata": {
    "_uuid": "3c4c45c40b6e57013ce5770a64227a76691bc417"
   },
   "source": [
    "First of all let's have a high level overview of the prices:"
   ]
  },
  {
   "cell_type": "code",
   "execution_count": null,
   "metadata": {
    "_uuid": "e507ba951ea9d6acba86536599bc9800549c8d68"
   },
   "outputs": [],
   "source": [
    "#find minimum, maximum and average price for listing\n",
    "min_price = df['price'].min()\n",
    "max_price = df['price'].max()\n",
    "mean_price = df['price'].mean()\n",
    "\n",
    "print('Minimum price per listing is %d$.' % (min_price))\n",
    "print('Maximum price per listing is %d$' % (max_price))\n",
    "print('Average price per listing is %d$.' % (mean_price))"
   ]
  },
  {
   "cell_type": "code",
   "execution_count": null,
   "metadata": {
    "_uuid": "8d91ea208293b17b4b72243375d53804718bf788"
   },
   "outputs": [],
   "source": [
    "#get the average price for each listing\n",
    "mean_price_for_listing = df.groupby('listing_id').mean()['price']\n",
    "\n",
    "#plot\n",
    "plt.figure(figsize=(15,5))\n",
    "plt.hist(mean_price_for_listing, bins=20)\n",
    "plt.xticks(np.arange(0, 1700, step=100))\n",
    "plt.ylabel('Number of listings')\n",
    "plt.xlabel('Price, $')\n",
    "plt.title('Number of listings depending on price')\n",
    "\n",
    "\n",
    "plt.savefig('Price distrubution.png')\n",
    "\n",
    "plt.show()"
   ]
  },
  {
   "cell_type": "markdown",
   "metadata": {
    "_uuid": "1d784490705d3fc36f71a39fbe378cefa7801a8f"
   },
   "source": [
    "Now we see the distribution of average listing prices. The majority of listings is concentrated around 50 - 150 USD."
   ]
  },
  {
   "cell_type": "markdown",
   "metadata": {
    "_uuid": "9a9d4c404c6529af9a0e65784752032e863f1b77"
   },
   "source": [
    "### What Are the Busiest Times of the Year to Visit Seattle?"
   ]
  },
  {
   "cell_type": "markdown",
   "metadata": {
    "_uuid": "d0aaa78878aebe72593cb330310f00ae520f41e7"
   },
   "source": [
    "To answer this question we should look at:\n",
    "* how the number of listings change depending on time of the year?\n",
    "* how prices change depending on time of time of the year?"
   ]
  },
  {
   "cell_type": "code",
   "execution_count": null,
   "metadata": {
    "_uuid": "fe4bb3112056ce88d76e65e97f0defbdc215c4f8"
   },
   "outputs": [],
   "source": [
    "#find number of total number of listings for each month in 2016\n",
    "number_of_listings_by_month = pd.Series([12])\n",
    "for i in range(1, 13):\n",
    "    number_of_listings_by_month[i] = len(df[(df['month'] == i) & (df['year'] == 2016)]['listing_id'].unique())\n",
    "    \n",
    "number_of_listings_by_month = number_of_listings_by_month.drop(0)\n",
    "\n",
    "#plot\n",
    "plt.figure(figsize=(10,5))\n",
    "plt.plot(number_of_listings_by_month)\n",
    "plt.xticks(np.arange(1, 13, step=1))\n",
    "plt.ylabel('Number of listings')\n",
    "plt.xlabel('Month')\n",
    "plt.title('Number of listings per month, 2016')\n",
    "\n",
    "plt.savefig('number of available listings.png')\n",
    "\n",
    "plt.show()"
   ]
  },
  {
   "cell_type": "markdown",
   "metadata": {
    "_uuid": "7b3742a717dd44635994b4f7ba2b93d9c8ba80f7"
   },
   "source": [
    "The diagram above shows us number of listings depending on month. We can see that number of available listings for reservation is tends to be the lowest in summer."
   ]
  },
  {
   "cell_type": "code",
   "execution_count": null,
   "metadata": {
    "_uuid": "32db34167d48814c5b5d30346f65d8c467e79d49"
   },
   "outputs": [],
   "source": [
    "#find average price by month\n",
    "average_price_by_month = df.groupby(['month'])['price'].mean()\n",
    "\n",
    "#plot\n",
    "plt.figure(figsize=(10,5))\n",
    "plt.plot(average_price_by_month)\n",
    "plt.ylabel('Average price, $')\n",
    "plt.xlabel('Month')\n",
    "plt.title('Average price')\n",
    "\n",
    "plt.savefig('average price for month')\n",
    "\n",
    "plt.show()"
   ]
  },
  {
   "cell_type": "markdown",
   "metadata": {
    "_uuid": "1c076acfc954f94910efc446233517a019dc31e8"
   },
   "source": [
    "According to the diagram above listing prices raise significantly in summer, probably, because of the fact that there are less listings available for reservation. There is also a raise in December. This tells us that summer and winter holidays should be the busiest times to visit Seattle."
   ]
  },
  {
   "cell_type": "markdown",
   "metadata": {
    "_uuid": "3dccb2769494ec6060b705111b1bb231bdf04364"
   },
   "source": [
    "### Prices Depending on Neighbourhood"
   ]
  },
  {
   "cell_type": "markdown",
   "metadata": {
    "_uuid": "187bd563f685024ad7b3fd299e1b53276ee0a75d"
   },
   "source": [
    "We already mentioned above that neighbourhood might have great influence on the listing price. Let's take a look at listing prices depending on neighbourhood."
   ]
  },
  {
   "cell_type": "code",
   "execution_count": null,
   "metadata": {
    "_uuid": "c35d6f76fc8b673f0dfec77ac405b0c8b6e7e55d"
   },
   "outputs": [],
   "source": [
    "#get list of neighbourhoods\n",
    "neighbourhoods = df['neighbourhood_group_cleansed'].unique()\n",
    "\n",
    "#get prices by month and neighbourhood\n",
    "price_by_month_neighbourhood = df.groupby(['month','neighbourhood_group_cleansed']).mean().reset_index()\n",
    "\n",
    "#plot prices for each neighbourhood\n",
    "fig = plt.figure(figsize=(20,10))\n",
    "ax = plt.subplot(111)\n",
    "\n",
    "for neighbourhood in neighbourhoods:\n",
    "    ax.plot(price_by_month_neighbourhood[price_by_month_neighbourhood['neighbourhood_group_cleansed'] == neighbourhood]['month'],\n",
    "             price_by_month_neighbourhood[price_by_month_neighbourhood['neighbourhood_group_cleansed'] == neighbourhood]['price'],\n",
    "             label = neighbourhood)\n",
    "    \n",
    "box = ax.get_position()\n",
    "ax.set_position([box.x0, box.y0, box.width * 0.8, box.height])\n",
    "ax.legend(loc='center left', bbox_to_anchor=(1, 0.5))\n",
    "\n",
    "plt.ylabel('Average price, $')\n",
    "plt.xlabel('Month')\n",
    "plt.title('Average price for neighbourhood, $')\n",
    "\n",
    "plt.savefig('average price for neighbourhood')\n",
    "\n",
    "plt.show()"
   ]
  },
  {
   "cell_type": "markdown",
   "metadata": {
    "_uuid": "5d8353b8c95feb177b105e731ea80ebe4d73aef1"
   },
   "source": [
    "On the diagram above we can see that prices differ depending on the location (neighbourhood). The highest average prices are in Downtown, which is not surprising. But for each neighbourhood prices tend to raise in summer."
   ]
  },
  {
   "cell_type": "markdown",
   "metadata": {
    "_uuid": "7806ff4f44f1cd2454656ed19d2805e7b6b3791a"
   },
   "source": [
    "### Correlation between Price and Other Features"
   ]
  },
  {
   "cell_type": "markdown",
   "metadata": {
    "_uuid": "1fe1dd6934d1f1244b2427fd2bce2454f48dafec"
   },
   "source": [
    "It is useful to look on correlations between price and other features from the dataset to find factors, which influence the price."
   ]
  },
  {
   "cell_type": "code",
   "execution_count": null,
   "metadata": {
    "_uuid": "2d353efd341e138186b3ce6ab5f04cceace9eb0b"
   },
   "outputs": [],
   "source": [
    "#Numerical columns to find out correlation\n",
    "cols = ['accommodates','bathrooms','bedrooms','beds','host_since_year',\n",
    "        'host_listings_count', 'extra_people_fee',\n",
    "        'review_scores_rating', 'price']\n",
    "\n",
    "#Find out correlation between columns and plot\n",
    "corrs = np.corrcoef(df[cols].values.T)\n",
    "sns.set(font_scale=1)\n",
    "sns.set(rc={'figure.figsize':(7,7)})\n",
    "hm=sns.heatmap(corrs, cbar = True, annot=True, square = True, fmt = '.2f',\n",
    "              yticklabels = cols, xticklabels = cols).set_title('Correlations heatmap')\n",
    "\n",
    "fig = hm.get_figure()\n",
    "fig.savefig('correlations.png')"
   ]
  },
  {
   "cell_type": "markdown",
   "metadata": {
    "_uuid": "25e06e4d58c081aa466bd57d25606a9516a6c633"
   },
   "source": [
    "From the correlations heatmap diagram we can see that price is correlated with number of accomodates, bathrooms, bedrooms and beds. We also see that these features are correlated themselves. In fact, these results are quite obvious, because the price really depends on how large is the place."
   ]
  },
  {
   "cell_type": "markdown",
   "metadata": {
    "_uuid": "1bd363979072c5aae6c9a354fe87f9d7d83b4fc0"
   },
   "source": [
    "## Machine Learning"
   ]
  },
  {
   "cell_type": "markdown",
   "metadata": {
    "_uuid": "cc1cc2807186abc6f0c3386e7a9eaa41778b65d2"
   },
   "source": [
    "Additionally we are able to apply machine learning methods to see which features in dataset influence the price the most. In order to do this we will train two popular models (__[Random Forest regressor](https://en.wikipedia.org/wiki/Random_forest)__ and __[XGBoost regressor)](https://en.wikipedia.org/wiki/XGBoost)__ based on decision trees and look at resulting feature importances."
   ]
  },
  {
   "cell_type": "code",
   "execution_count": null,
   "metadata": {
    "_uuid": "b4e778d85c88b241bd02ff105eef4d64b0e75053"
   },
   "outputs": [],
   "source": [
    "#turn categorical columns into dummies\n",
    "cat_columns = list(df.select_dtypes(include=['object']).columns)\n",
    "    \n",
    "for col in  cat_columns:\n",
    "    df = pd.concat([df.drop(col, axis=1), pd.get_dummies(df[col], prefix=col, prefix_sep='_',\n",
    "\n",
    "                                                         drop_first=True, dummy_na=True)], axis=1)\n",
    "#drop listing_id and year columns\n",
    "df = df.drop(columns = ['listing_id', 'year'])"
   ]
  },
  {
   "cell_type": "code",
   "execution_count": null,
   "metadata": {
    "_uuid": "ec7fa0fc2cbf8ef03a3540b897602bc85b78bfef"
   },
   "outputs": [],
   "source": [
    "#prepare train and test datasets for modelling\n",
    "TEST_SIZE = 0.3\n",
    "RAND_STATE = 42\n",
    "\n",
    "X = df.drop(columns = 'price')\n",
    "y = df[['price']]\n",
    "\n",
    "X_train, X_test, y_train, y_test = train_test_split(X, y, test_size = TEST_SIZE, random_state=RAND_STATE)"
   ]
  },
  {
   "cell_type": "markdown",
   "metadata": {
    "_uuid": "233f4e2f9cc76b2d0ecdaa6c4dc89ab3e6c2f197"
   },
   "source": [
    "Train Random Forest Regressor model to predict price:"
   ]
  },
  {
   "cell_type": "code",
   "execution_count": null,
   "metadata": {
    "_uuid": "ef8663b2621dbc630d4943cddd6cffa5cecbcdde"
   },
   "outputs": [],
   "source": [
    "#train RF regressor model\n",
    "forest = RandomForestRegressor(n_estimators=100, \n",
    "                               criterion='mse', \n",
    "                               random_state=RAND_STATE, \n",
    "                               n_jobs=-1)\n",
    "forest.fit(X_train, y_train.squeeze())\n",
    "\n",
    "#calculate scores for the model\n",
    "y_train_preds = forest.predict(X_train)\n",
    "y_test_preds = forest.predict(X_test)\n",
    "\n",
    "print('Random Forest MSE train: %.3f, test: %.3f' % (\n",
    "        mean_squared_error(y_train, y_train_preds),\n",
    "        mean_squared_error(y_test, y_test_preds)))\n",
    "print('Random Forest R^2 train: %.3f, test: %.3f' % (\n",
    "        r2_score(y_train, y_train_preds),\n",
    "        r2_score(y_test, y_test_preds)))"
   ]
  },
  {
   "cell_type": "code",
   "execution_count": null,
   "metadata": {
    "_uuid": "98ab900a6da53253e0a45aafde55ea9d0efc1394"
   },
   "outputs": [],
   "source": [
    "#get feature importances from the model\n",
    "headers = [\"name\", \"score\"]\n",
    "values = sorted(zip(X_train.columns, forest.feature_importances_), key=lambda x: x[1] * -1)\n",
    "forest_feature_importances = pd.DataFrame(values, columns = headers)\n",
    "forest_feature_importances = forest_feature_importances.sort_values(by = ['score'], ascending = False)\n",
    "\n",
    "features = forest_feature_importances['name'][:15]\n",
    "y_pos = np.arange(len(features))\n",
    "scores = forest_feature_importances['score'][:15]\n",
    "\n",
    "#plot feature importances\n",
    "plt.figure(figsize=(10,5))\n",
    "plt.bar(y_pos, scores, align='center', alpha=0.5)\n",
    "plt.xticks(y_pos, features, rotation='vertical')\n",
    "plt.ylabel('Score')\n",
    "plt.xlabel('Features')\n",
    "plt.title('Feature importances (Random Forest)')\n",
    "\n",
    "plt.savefig('feature importances RF.png')\n",
    " \n",
    "plt.show()"
   ]
  },
  {
   "cell_type": "markdown",
   "metadata": {
    "_uuid": "2717ac1cd1e5b571faaa5499fb8cb88187f06662"
   },
   "source": [
    "Train XGBoost Regressor model to predict price:"
   ]
  },
  {
   "cell_type": "code",
   "execution_count": null,
   "metadata": {
    "_uuid": "026b3e4e4d1f79aebd4491e4a1809f52a2f91c57"
   },
   "outputs": [],
   "source": [
    "#train XGBoost model\n",
    "xgb = xgboost.XGBRegressor(n_estimators=100, learning_rate=0.08, gamma=0, subsample=0.75,\n",
    "                           colsample_bytree=1, max_depth=7)\n",
    "xgb.fit(X_train,y_train)\n",
    "\n",
    "#calculate and print scores for the model for top 15 features\n",
    "y_train_preds = xgb.predict(X_train)\n",
    "y_test_preds = xgb.predict(X_test)\n",
    "\n",
    "print('MSE train: %.3f, test: %.3f' % (\n",
    "        mean_squared_error(y_train, y_train_preds),\n",
    "        mean_squared_error(y_test, y_test_preds)))\n",
    "print('R^2 train: %.3f, test: %.3f' % (\n",
    "        r2_score(y_train, y_train_preds),\n",
    "        r2_score(y_test, y_test_preds)))"
   ]
  },
  {
   "cell_type": "code",
   "execution_count": null,
   "metadata": {
    "_uuid": "01f0650911a7c8729ce4beed36b062d2dc32a794"
   },
   "outputs": [],
   "source": [
    "#get feature importances from the model\n",
    "headers = [\"name\", \"score\"]\n",
    "values = sorted(zip(X_train.columns, xgb.feature_importances_), key=lambda x: x[1] * -1)\n",
    "xgb_feature_importances = pd.DataFrame(values, columns = headers)\n",
    "\n",
    "#plot feature importances for top 15 features\n",
    "features = xgb_feature_importances['name'][:15]\n",
    "y_pos = np.arange(len(features))\n",
    "scores = xgb_feature_importances['score'][:15]\n",
    " \n",
    "plt.figure(figsize=(10,5))\n",
    "plt.bar(y_pos, scores, align='center', alpha=0.5)\n",
    "plt.xticks(y_pos, features, rotation='vertical')\n",
    "plt.ylabel('Score')\n",
    "plt.xlabel('Features')\n",
    "plt.title('Feature importances (XGBoost)')\n",
    "\n",
    "plt.savefig('feature importances XGB.png')\n",
    " \n",
    "plt.show()"
   ]
  },
  {
   "cell_type": "markdown",
   "metadata": {
    "_uuid": "13ec899d19108d0e570d1040b352639ffe3d4538"
   },
   "source": [
    "Let's take a look at the results of the modelling:\n",
    "* The modelling also shows us that factors already mentioned above have influence on price: time of the year, location, number of bedrooms, bathrooms, beds and accomodates;\n",
    "* The host qualities are important: number of host's listings, number of years since being the host, time in which the host responds to the inquiries;\n",
    "* The pricing might depend on reviews: number of reviews and review scores."
   ]
  },
  {
   "cell_type": "markdown",
   "metadata": {
    "_uuid": "1739dec6180cfbb01ca9c497e973f140e6856e8a"
   },
   "source": [
    "## Conclusion"
   ]
  },
  {
   "cell_type": "markdown",
   "metadata": {
    "_uuid": "e62f87b42cc26126bebe1cd4dc46732488adf1ad"
   },
   "source": [
    "In this analysis we tried to understand what influences the reservation prices with the help of AirBnB data for Seattle. Of course, the results may be different for each city, but current approach still can be used for other cities' data."
   ]
  },
  {
   "cell_type": "markdown",
   "metadata": {
    "_uuid": "66ca4c1469d9df033f330999604619b9ff767c25"
   },
   "source": [
    "The main takeaways of the Seattle data analysis include:\n",
    "<br> Basic characteristics of the place (number of bedrooms, bathrooms, beds and accomodates) affect the reservation price.\n",
    "<br> The reservation price varies depending on the time of the year. For example, the busiest time to visit Seattle is summer.\n",
    "<br> The host qualities and the number of reviews and review scores might also affect the reservation price. That is why if you want to save money, you may, for example, look for places which have fewer reviews. This will help to find the places with same characteristics (bathrooms, bedrooms, location etc.), and lower reservation price."
   ]
  },
  {
   "cell_type": "markdown",
   "metadata": {
    "_uuid": "6423a05e88f7a28f809560819b50467037550175"
   },
   "source": [
    "So now when we know how to choose between places offered by AirBnB and save money it is time to travel and test it on practice!"
   ]
  },
  {
   "cell_type": "code",
   "execution_count": null,
   "metadata": {
    "_uuid": "53af552df1bb77a550f3c4e7967fb9e0d2c6e4a0"
   },
   "outputs": [],
   "source": []
  },
  {
   "cell_type": "markdown",
   "metadata": {
    "_uuid": "8657f9328fba324a88e17850d256c6bd11c2743e"
   },
   "source": []
  },
  {
   "cell_type": "markdown",
   "metadata": {
    "_uuid": "0ef406d81ad7e1f665d6f7e51677983c34a84f7a"
   },
   "source": []
  }
 ],
 "metadata": {
  "kernelspec": {
   "display_name": "Python 3",
   "language": "python",
   "name": "python3"
  },
  "language_info": {
   "codemirror_mode": {
    "name": "ipython",
    "version": 3
   },
   "file_extension": ".py",
   "mimetype": "text/x-python",
   "name": "python",
   "nbconvert_exporter": "python",
   "pygments_lexer": "ipython3",
   "version": "3.7.6"
  }
 },
 "nbformat": 4,
 "nbformat_minor": 1
}
